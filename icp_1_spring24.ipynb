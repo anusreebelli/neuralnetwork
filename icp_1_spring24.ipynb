{
  "nbformat": 4,
  "nbformat_minor": 0,
  "metadata": {
    "colab": {
      "provenance": []
    },
    "kernelspec": {
      "name": "python3",
      "display_name": "Python 3"
    },
    "language_info": {
      "name": "python"
    }
  },
  "cells": [
    {
      "cell_type": "code",
      "execution_count": 2,
      "metadata": {
        "colab": {
          "base_uri": "https://localhost:8080/"
        },
        "id": "QL4ORX5Lxr26",
        "outputId": "014f6c2e-cef2-4b7b-c327-ffb79eae722a"
      },
      "outputs": [
        {
          "output_type": "stream",
          "name": "stdout",
          "text": [
            "Enter the string 'Python': python\n",
            "Reversed String: noht\n",
            "Enter the first number: 6\n",
            "Enter the second number: 6\n",
            "Addition: 12.0\n",
            "Subtraction: 0.0\n",
            "Multiplication: 36.0\n",
            "Division: 1.0\n"
          ]
        }
      ],
      "source": [
        "# Input the string \"Python\" as a list of characters from console\n",
        "input_string = list(input(\"Enter the string 'Python': \"))\n",
        "\n",
        "# Delete at least 2 characters\n",
        "if len(input_string) >= 2:\n",
        "  del input_string[:2]\n",
        "\n",
        "# Reverse the resultant string\n",
        "resultant_string = ''.join(reversed(input_string))\n",
        "\n",
        "# Print the reversed string\n",
        "print(\"Reversed String:\", resultant_string)\n",
        "\n",
        "# Take two numbers from the user\n",
        "num1 = float(input(\"Enter the first number: \"))\n",
        "num2 = float(input(\"Enter the second number: \"))\n",
        "\n",
        "# Perform at least 4 arithmetic operations\n",
        "addition = num1 + num2\n",
        "subtraction = num1 - num2\n",
        "multiplication = num1 * num2\n",
        "division = num1 / num2\n",
        "\n",
        "# Print the results of arithmetic operations\n",
        "print(\"Addition:\", addition)\n",
        "print(\"Subtraction:\", subtraction)\n",
        "print(\"Multiplication:\", multiplication)\n",
        "print(\"Division:\", division)"
      ]
    },
    {
      "cell_type": "code",
      "source": [
        " #Accept a sentence from the user\n",
        "sentence = input(\"Enter a sentence: \")\n",
        "\n",
        "# Replace each occurrence of 'python' with 'pythons'\n",
        "modified_sentence = sentence.replace('python', 'pythons')\n",
        "\n",
        "# Print the modified sentence\n",
        "print(\"Modified Sentence:\", modified_sentence)"
      ],
      "metadata": {
        "colab": {
          "base_uri": "https://localhost:8080/"
        },
        "id": "vdc_xfHDyq6V",
        "outputId": "6ec01d47-cd79-485d-85d6-2bc94411461b"
      },
      "execution_count": 3,
      "outputs": [
        {
          "output_type": "stream",
          "name": "stdout",
          "text": [
            "Enter a sentence: python\n",
            "Modified Sentence: pythons\n"
          ]
        }
      ]
    },
    {
      "cell_type": "code",
      "source": [
        "# Accept class score from the user\n",
        "class_score = float(input(\"Enter the class score: \"))\n",
        "\n",
        "# Define grading scheme (you can adjust the score ranges as needed)\n",
        "A_score = 90\n",
        "B_score = 80\n",
        "C_score = 70\n",
        "D_score = 60\n",
        "\n",
        "# Use if statements to determine the letter grade\n",
        "if class_score >= A_score:\n",
        "    grade = 'A'\n",
        "elif class_score >= B_score:\n",
        "    grade = 'B'\n",
        "elif class_score >= C_score:\n",
        "    grade = 'C'\n",
        "elif class_score >= D_score:\n",
        "    grade = 'D'\n",
        "else:\n",
        "    grade = 'F'\n",
        "\n",
        "# Print the letter grade\n",
        "print(\"Letter Grade:\", grade)"
      ],
      "metadata": {
        "colab": {
          "base_uri": "https://localhost:8080/"
        },
        "id": "Z5xnbK28z0Iz",
        "outputId": "d690b191-5e7d-4bd3-e1bf-6a82656a90e0"
      },
      "execution_count": 9,
      "outputs": [
        {
          "output_type": "stream",
          "name": "stdout",
          "text": [
            "Enter the class score: 90\n",
            "Letter Grade: A\n"
          ]
        }
      ]
    }
  ]
}